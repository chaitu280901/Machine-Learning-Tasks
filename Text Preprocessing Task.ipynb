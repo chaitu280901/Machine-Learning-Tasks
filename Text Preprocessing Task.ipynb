{
 "cells": [
  {
   "cell_type": "code",
   "execution_count": 2,
   "id": "d4899a65",
   "metadata": {},
   "outputs": [],
   "source": [
    "text = \"👭 Once upon a tim in Harmonyville, childhood friends Lily and Jake drifted apart, but a trip down memory lane throuh old photos brought them back together.However the wants to meet using www.friendhsip.com. 📷 Nostalgia struck, promting Lily to reach out, and they decided to reunite at their favorite cafe. ☕️ Amidst shared laughter and stories, it became evident that their bond was as stong as ever. 🌟 Inspired, they planed a spontaneous weekend getaway to rekindle their past adventures. 🔥 By the mountain cabin's fireplace, they realized that some friendships, like fine wine, only get better with time.\""
   ]
  },
  {
   "cell_type": "code",
   "execution_count": 2,
   "id": "67c3f24d",
   "metadata": {},
   "outputs": [],
   "source": [
    "from textblob  import TextBlob"
   ]
  },
  {
   "cell_type": "code",
   "execution_count": 3,
   "id": "c1904c54",
   "metadata": {},
   "outputs": [],
   "source": [
    "txt = TextBlob(text)"
   ]
  },
  {
   "cell_type": "markdown",
   "id": "a8383f98",
   "metadata": {},
   "source": [
    "## Spelling Corrections"
   ]
  },
  {
   "cell_type": "code",
   "execution_count": 4,
   "id": "b2f23dcb",
   "metadata": {},
   "outputs": [
    {
     "data": {
      "text/plain": [
       "TextBlob(\"👭 Once upon a tim in Harmonyville, childhood friends Oily and Take drifted apart, but a trip down memory lane through old photo brought them back together.However the wants to meet using www.friendship.com. 📷 Nostalgia struck, promoting Oily to reach out, and they decided to reunite at their favorite cafe. ☕️ Midst shared laughter and stories, it became evident that their bond was as strong as ever. 🌟 Inspired, they planed a spontaneous weekend gateway to kindle their past adventures. 🔥 By the mountain cabin's fireplace, they realized that some friendships, like fine wine, only get better with time.\")"
      ]
     },
     "execution_count": 4,
     "metadata": {},
     "output_type": "execute_result"
    }
   ],
   "source": [
    "txt.correct()"
   ]
  },
  {
   "cell_type": "code",
   "execution_count": 5,
   "id": "98ee66c7",
   "metadata": {},
   "outputs": [],
   "source": [
    "import autocorrect"
   ]
  },
  {
   "cell_type": "code",
   "execution_count": 6,
   "id": "716ee123",
   "metadata": {},
   "outputs": [],
   "source": [
    "spell = autocorrect.Speller()"
   ]
  },
  {
   "cell_type": "code",
   "execution_count": 7,
   "id": "f5341774",
   "metadata": {},
   "outputs": [
    {
     "data": {
      "text/plain": [
       "\"👭 Once upon a tim in Harmonyville, childhood friends Lily and Jake drifted apart, but a trip down memory lane through old photos brought them back together.However the wants to meet using www.friendship.com. 📷 Nostalgia struck, promoting Lily to reach out, and they decided to reunite at their favorite cafe. ☕️ Midst shared laughter and stories, it became evident that their bond was as song as ever. 🌟 Inspired, they played a spontaneous weekend getaway to rekindle their past adventures. 🔥 By the mountain cabin's fireplace, they realized that some friendships, like fine wine, only get better with time.\""
      ]
     },
     "execution_count": 7,
     "metadata": {},
     "output_type": "execute_result"
    }
   ],
   "source": [
    "spell.autocorrect_sentence(text)"
   ]
  },
  {
   "cell_type": "code",
   "execution_count": 8,
   "id": "5d723c9f",
   "metadata": {},
   "outputs": [],
   "source": [
    "import re"
   ]
  },
  {
   "cell_type": "code",
   "execution_count": 10,
   "id": "c981d38a",
   "metadata": {},
   "outputs": [
    {
     "data": {
      "text/plain": [
       "['👭',\n",
       " ' ',\n",
       " ' ',\n",
       " ' ',\n",
       " ' ',\n",
       " ' ',\n",
       " ' ',\n",
       " ',',\n",
       " ' ',\n",
       " ' ',\n",
       " ' ',\n",
       " ' ',\n",
       " ' ',\n",
       " ' ',\n",
       " ' ',\n",
       " ',',\n",
       " ' ',\n",
       " ' ',\n",
       " ' ',\n",
       " ' ',\n",
       " ' ',\n",
       " ' ',\n",
       " ' ',\n",
       " ' ',\n",
       " ' ',\n",
       " ' ',\n",
       " ' ',\n",
       " ' ',\n",
       " ' ',\n",
       " '.',\n",
       " ' ',\n",
       " ' ',\n",
       " ' ',\n",
       " ' ',\n",
       " ' ',\n",
       " ' ',\n",
       " '.',\n",
       " '.',\n",
       " '.',\n",
       " ' ',\n",
       " '📷',\n",
       " ' ',\n",
       " ' ',\n",
       " ',',\n",
       " ' ',\n",
       " ' ',\n",
       " ' ',\n",
       " ' ',\n",
       " ' ',\n",
       " ',',\n",
       " ' ',\n",
       " ' ',\n",
       " ' ',\n",
       " ' ',\n",
       " ' ',\n",
       " ' ',\n",
       " ' ',\n",
       " ' ',\n",
       " ' ',\n",
       " '.',\n",
       " ' ',\n",
       " '☕',\n",
       " '️',\n",
       " ' ',\n",
       " ' ',\n",
       " ' ',\n",
       " ' ',\n",
       " ' ',\n",
       " ',',\n",
       " ' ',\n",
       " ' ',\n",
       " ' ',\n",
       " ' ',\n",
       " ' ',\n",
       " ' ',\n",
       " ' ',\n",
       " ' ',\n",
       " ' ',\n",
       " ' ',\n",
       " ' ',\n",
       " '.',\n",
       " ' ',\n",
       " '🌟',\n",
       " ' ',\n",
       " ',',\n",
       " ' ',\n",
       " ' ',\n",
       " ' ',\n",
       " ' ',\n",
       " ' ',\n",
       " ' ',\n",
       " ' ',\n",
       " ' ',\n",
       " ' ',\n",
       " ' ',\n",
       " ' ',\n",
       " '.',\n",
       " ' ',\n",
       " '🔥',\n",
       " ' ',\n",
       " ' ',\n",
       " ' ',\n",
       " ' ',\n",
       " \"'\",\n",
       " ' ',\n",
       " ',',\n",
       " ' ',\n",
       " ' ',\n",
       " ' ',\n",
       " ' ',\n",
       " ' ',\n",
       " ',',\n",
       " ' ',\n",
       " ' ',\n",
       " ' ',\n",
       " ',',\n",
       " ' ',\n",
       " ' ',\n",
       " ' ',\n",
       " ' ',\n",
       " ' ',\n",
       " '.']"
      ]
     },
     "execution_count": 10,
     "metadata": {},
     "output_type": "execute_result"
    }
   ],
   "source": [
    "re.findall(r'[^A-z]',text)"
   ]
  },
  {
   "cell_type": "code",
   "execution_count": 13,
   "id": "89793e4e",
   "metadata": {},
   "outputs": [
    {
     "data": {
      "text/plain": [
       "'  Once upon a tim in Harmonyville  childhood friends Lily and Jake drifted apart  but a trip down memory lane throuh old photos brought them back together However the wants to meet using www friendhsip com    Nostalgia struck  promting Lily to reach out  and they decided to reunite at their favorite cafe     Amidst shared laughter and stories  it became evident that their bond was as stong as ever    Inspired  they planed a spontaneous weekend getaway to rekindle their past adventures    By the mountain cabin s fireplace  they realized that some friendships  like fine wine  only get better with time '"
      ]
     },
     "execution_count": 13,
     "metadata": {},
     "output_type": "execute_result"
    }
   ],
   "source": [
    "re.sub(r'[^A-z0-9]',' ',text)"
   ]
  },
  {
   "cell_type": "code",
   "execution_count": 14,
   "id": "37d5de8f",
   "metadata": {},
   "outputs": [
    {
     "data": {
      "text/plain": [
       "['👭',\n",
       " ' ',\n",
       " ' ',\n",
       " ' ',\n",
       " ' ',\n",
       " ' ',\n",
       " ' ',\n",
       " ',',\n",
       " ' ',\n",
       " ' ',\n",
       " ' ',\n",
       " ' ',\n",
       " ' ',\n",
       " ' ',\n",
       " ' ',\n",
       " ',',\n",
       " ' ',\n",
       " ' ',\n",
       " ' ',\n",
       " ' ',\n",
       " ' ',\n",
       " ' ',\n",
       " ' ',\n",
       " ' ',\n",
       " ' ',\n",
       " ' ',\n",
       " ' ',\n",
       " ' ',\n",
       " ' ',\n",
       " '.',\n",
       " ' ',\n",
       " ' ',\n",
       " ' ',\n",
       " ' ',\n",
       " ' ',\n",
       " ' ',\n",
       " '.',\n",
       " '.',\n",
       " '.',\n",
       " ' ',\n",
       " '📷',\n",
       " ' ',\n",
       " ' ',\n",
       " ',',\n",
       " ' ',\n",
       " ' ',\n",
       " ' ',\n",
       " ' ',\n",
       " ' ',\n",
       " ',',\n",
       " ' ',\n",
       " ' ',\n",
       " ' ',\n",
       " ' ',\n",
       " ' ',\n",
       " ' ',\n",
       " ' ',\n",
       " ' ',\n",
       " ' ',\n",
       " '.',\n",
       " ' ',\n",
       " '☕',\n",
       " '️',\n",
       " ' ',\n",
       " ' ',\n",
       " ' ',\n",
       " ' ',\n",
       " ' ',\n",
       " ',',\n",
       " ' ',\n",
       " ' ',\n",
       " ' ',\n",
       " ' ',\n",
       " ' ',\n",
       " ' ',\n",
       " ' ',\n",
       " ' ',\n",
       " ' ',\n",
       " ' ',\n",
       " ' ',\n",
       " '.',\n",
       " ' ',\n",
       " '🌟',\n",
       " ' ',\n",
       " ',',\n",
       " ' ',\n",
       " ' ',\n",
       " ' ',\n",
       " ' ',\n",
       " ' ',\n",
       " ' ',\n",
       " ' ',\n",
       " ' ',\n",
       " ' ',\n",
       " ' ',\n",
       " ' ',\n",
       " '.',\n",
       " ' ',\n",
       " '🔥',\n",
       " ' ',\n",
       " ' ',\n",
       " ' ',\n",
       " ' ',\n",
       " \"'\",\n",
       " ' ',\n",
       " ',',\n",
       " ' ',\n",
       " ' ',\n",
       " ' ',\n",
       " ' ',\n",
       " ' ',\n",
       " ',',\n",
       " ' ',\n",
       " ' ',\n",
       " ' ',\n",
       " ',',\n",
       " ' ',\n",
       " ' ',\n",
       " ' ',\n",
       " ' ',\n",
       " ' ',\n",
       " '.']"
      ]
     },
     "execution_count": 14,
     "metadata": {},
     "output_type": "execute_result"
    }
   ],
   "source": [
    "re.findall(r'[^A-z]',text)"
   ]
  },
  {
   "cell_type": "markdown",
   "id": "1f230767",
   "metadata": {},
   "source": [
    "## Tokenization"
   ]
  },
  {
   "cell_type": "code",
   "execution_count": 1,
   "id": "caec9f85",
   "metadata": {},
   "outputs": [],
   "source": [
    "import nltk\n",
    "from nltk.tokenize import word_tokenize,sent_tokenize"
   ]
  },
  {
   "cell_type": "code",
   "execution_count": 3,
   "id": "3747bc3a",
   "metadata": {},
   "outputs": [
    {
     "data": {
      "text/plain": [
       "['👭',\n",
       " 'Once',\n",
       " 'upon',\n",
       " 'a',\n",
       " 'tim',\n",
       " 'in',\n",
       " 'Harmonyville',\n",
       " ',',\n",
       " 'childhood',\n",
       " 'friends',\n",
       " 'Lily',\n",
       " 'and',\n",
       " 'Jake',\n",
       " 'drifted',\n",
       " 'apart',\n",
       " ',',\n",
       " 'but',\n",
       " 'a',\n",
       " 'trip',\n",
       " 'down',\n",
       " 'memory',\n",
       " 'lane',\n",
       " 'throuh',\n",
       " 'old',\n",
       " 'photos',\n",
       " 'brought',\n",
       " 'them',\n",
       " 'back',\n",
       " 'together.However',\n",
       " 'the',\n",
       " 'wants',\n",
       " 'to',\n",
       " 'meet',\n",
       " 'using',\n",
       " 'www.friendhsip.com',\n",
       " '.',\n",
       " '📷',\n",
       " 'Nostalgia',\n",
       " 'struck',\n",
       " ',',\n",
       " 'promting',\n",
       " 'Lily',\n",
       " 'to',\n",
       " 'reach',\n",
       " 'out',\n",
       " ',',\n",
       " 'and',\n",
       " 'they',\n",
       " 'decided',\n",
       " 'to',\n",
       " 'reunite',\n",
       " 'at',\n",
       " 'their',\n",
       " 'favorite',\n",
       " 'cafe',\n",
       " '.',\n",
       " '☕️',\n",
       " 'Amidst',\n",
       " 'shared',\n",
       " 'laughter',\n",
       " 'and',\n",
       " 'stories',\n",
       " ',',\n",
       " 'it',\n",
       " 'became',\n",
       " 'evident',\n",
       " 'that',\n",
       " 'their',\n",
       " 'bond',\n",
       " 'was',\n",
       " 'as',\n",
       " 'stong',\n",
       " 'as',\n",
       " 'ever',\n",
       " '.',\n",
       " '🌟',\n",
       " 'Inspired',\n",
       " ',',\n",
       " 'they',\n",
       " 'planed',\n",
       " 'a',\n",
       " 'spontaneous',\n",
       " 'weekend',\n",
       " 'getaway',\n",
       " 'to',\n",
       " 'rekindle',\n",
       " 'their',\n",
       " 'past',\n",
       " 'adventures',\n",
       " '.',\n",
       " '🔥',\n",
       " 'By',\n",
       " 'the',\n",
       " 'mountain',\n",
       " 'cabin',\n",
       " \"'s\",\n",
       " 'fireplace',\n",
       " ',',\n",
       " 'they',\n",
       " 'realized',\n",
       " 'that',\n",
       " 'some',\n",
       " 'friendships',\n",
       " ',',\n",
       " 'like',\n",
       " 'fine',\n",
       " 'wine',\n",
       " ',',\n",
       " 'only',\n",
       " 'get',\n",
       " 'better',\n",
       " 'with',\n",
       " 'time',\n",
       " '.']"
      ]
     },
     "execution_count": 3,
     "metadata": {},
     "output_type": "execute_result"
    }
   ],
   "source": [
    "word_tokenize(text)"
   ]
  },
  {
   "cell_type": "code",
   "execution_count": 4,
   "id": "af501626",
   "metadata": {},
   "outputs": [
    {
     "data": {
      "text/plain": [
       "['👭 Once upon a tim in Harmonyville, childhood friends Lily and Jake drifted apart, but a trip down memory lane throuh old photos brought them back together.However the wants to meet using www.friendhsip.com.',\n",
       " '📷 Nostalgia struck, promting Lily to reach out, and they decided to reunite at their favorite cafe.',\n",
       " '☕️ Amidst shared laughter and stories, it became evident that their bond was as stong as ever.',\n",
       " '🌟 Inspired, they planed a spontaneous weekend getaway to rekindle their past adventures.',\n",
       " \"🔥 By the mountain cabin's fireplace, they realized that some friendships, like fine wine, only get better with time.\"]"
      ]
     },
     "execution_count": 4,
     "metadata": {},
     "output_type": "execute_result"
    }
   ],
   "source": [
    "sent_tokenize(text)"
   ]
  },
  {
   "cell_type": "markdown",
   "id": "ba0defb3",
   "metadata": {},
   "source": [
    "## Emoji"
   ]
  },
  {
   "cell_type": "code",
   "execution_count": 20,
   "id": "670910bb",
   "metadata": {},
   "outputs": [],
   "source": [
    "import emoji"
   ]
  },
  {
   "cell_type": "code",
   "execution_count": 21,
   "id": "039e61e1",
   "metadata": {},
   "outputs": [],
   "source": [
    "import re"
   ]
  },
  {
   "cell_type": "code",
   "execution_count": 22,
   "id": "3f8c0842",
   "metadata": {},
   "outputs": [
    {
     "data": {
      "text/plain": [
       "['👭', '📷', '☕️', '🌟', '🔥']"
      ]
     },
     "execution_count": 22,
     "metadata": {},
     "output_type": "execute_result"
    }
   ],
   "source": [
    "em = re.findall(r'[^A-z\\.,''\\' ]+',text)\n",
    "em"
   ]
  },
  {
   "cell_type": "code",
   "execution_count": 23,
   "id": "54fb2726",
   "metadata": {},
   "outputs": [
    {
     "data": {
      "text/plain": [
       "['women_holding_hands', 'camera', 'hot_beverage', 'glowing_star', 'fire']"
      ]
     },
     "execution_count": 23,
     "metadata": {},
     "output_type": "execute_result"
    }
   ],
   "source": [
    "demoj=[]\n",
    "for i in range(len(em)):\n",
    "    demoj.append(emoji.demojize(em[i]).replace(':',''))\n",
    "demoj  "
   ]
  },
  {
   "cell_type": "code",
   "execution_count": 28,
   "id": "f5929103",
   "metadata": {},
   "outputs": [
    {
     "data": {
      "text/plain": [
       "\" Once upon a tim in Harmonyville, childhood friends Lily and Jake drifted apart, but a trip down memory lane throuh old photos brought them back together.However the wants to meet using www.friendhsip.com.  Nostalgia struck, promting Lily to reach out, and they decided to reunite at their favorite cafe.  Amidst shared laughter and stories, it became evident that their bond was as stong as ever.  Inspired, they planed a spontaneous weekend getaway to rekindle their past adventures.  By the mountain cabin's fireplace, they realized that some friendships, like fine wine, only get better with time.\""
      ]
     },
     "execution_count": 28,
     "metadata": {},
     "output_type": "execute_result"
    }
   ],
   "source": [
    "Text=(re.sub(r'[^A-z\\.,''\\' ]+','',text))\n",
    "Text"
   ]
  },
  {
   "cell_type": "markdown",
   "id": "b21295d3",
   "metadata": {},
   "source": [
    "## Finding URL"
   ]
  },
  {
   "cell_type": "code",
   "execution_count": 25,
   "id": "158ce51a",
   "metadata": {},
   "outputs": [
    {
     "data": {
      "text/plain": [
       "['www.friendhsip.com.']"
      ]
     },
     "execution_count": 25,
     "metadata": {},
     "output_type": "execute_result"
    }
   ],
   "source": [
    "ur=re.findall(r'www[A-z\\.]+',text)\n",
    "ur"
   ]
  },
  {
   "cell_type": "markdown",
   "id": "5eef0134",
   "metadata": {},
   "source": [
    "## Punctuation"
   ]
  },
  {
   "cell_type": "code",
   "execution_count": 62,
   "id": "d38fcd51",
   "metadata": {},
   "outputs": [
    {
     "data": {
      "text/plain": [
       "' Once upon a tim in Harmonyville  childhood friends Lily and Jake drifted apart  but a trip down memory lane throuh old photos brought them back together However the wants to meet using www friendhsip com   Nostalgia struck  promting Lily to reach out  and they decided to reunite at their favorite cafe   Amidst shared laughter and stories  it became evident that their bond was as stong as ever   Inspired  they planed a spontaneous weekend getaway to rekindle their past adventures   By the mountain cabin s fireplace  they realized that some friendships  like fine wine  only get better with time '"
      ]
     },
     "execution_count": 62,
     "metadata": {},
     "output_type": "execute_result"
    }
   ],
   "source": [
    "re.sub(r'[\\.,''\\']+',' ',Text)"
   ]
  },
  {
   "cell_type": "markdown",
   "id": "822da3a8",
   "metadata": {},
   "source": [
    "## StopWords "
   ]
  },
  {
   "cell_type": "code",
   "execution_count": 71,
   "id": "1c1a9e86",
   "metadata": {},
   "outputs": [],
   "source": [
    "text2 = Text.lower()"
   ]
  },
  {
   "cell_type": "code",
   "execution_count": 72,
   "id": "b37860c2",
   "metadata": {},
   "outputs": [
    {
     "data": {
      "text/plain": [
       "\" once upon a tim in harmonyville, childhood friends lily and jake drifted apart, but a trip down memory lane throuh old photos brought them back together.however the wants to meet using www.friendhsip.com.  nostalgia struck, promting lily to reach out, and they decided to reunite at their favorite cafe.  amidst shared laughter and stories, it became evident that their bond was as stong as ever.  inspired, they planed a spontaneous weekend getaway to rekindle their past adventures.  by the mountain cabin's fireplace, they realized that some friendships, like fine wine, only get better with time.\""
      ]
     },
     "execution_count": 72,
     "metadata": {},
     "output_type": "execute_result"
    }
   ],
   "source": [
    "text2"
   ]
  },
  {
   "cell_type": "code",
   "execution_count": 73,
   "id": "842fb394",
   "metadata": {},
   "outputs": [],
   "source": [
    "from nltk.corpus import stopwords"
   ]
  },
  {
   "cell_type": "code",
   "execution_count": 74,
   "id": "c53ed674",
   "metadata": {},
   "outputs": [],
   "source": [
    "stop = stopwords.words('english')"
   ]
  },
  {
   "cell_type": "code",
   "execution_count": 75,
   "id": "0a88d0c5",
   "metadata": {},
   "outputs": [
    {
     "data": {
      "text/plain": [
       "True"
      ]
     },
     "execution_count": 75,
     "metadata": {},
     "output_type": "execute_result"
    }
   ],
   "source": [
    "'once' in stop"
   ]
  },
  {
   "cell_type": "code",
   "execution_count": 76,
   "id": "fb1e9427",
   "metadata": {},
   "outputs": [
    {
     "data": {
      "text/plain": [
       "['i',\n",
       " 'me',\n",
       " 'my',\n",
       " 'myself',\n",
       " 'we',\n",
       " 'our',\n",
       " 'ours',\n",
       " 'ourselves',\n",
       " 'you',\n",
       " \"you're\",\n",
       " \"you've\",\n",
       " \"you'll\",\n",
       " \"you'd\",\n",
       " 'your',\n",
       " 'yours',\n",
       " 'yourself',\n",
       " 'yourselves',\n",
       " 'he',\n",
       " 'him',\n",
       " 'his',\n",
       " 'himself',\n",
       " 'she',\n",
       " \"she's\",\n",
       " 'her',\n",
       " 'hers',\n",
       " 'herself',\n",
       " 'it',\n",
       " \"it's\",\n",
       " 'its',\n",
       " 'itself',\n",
       " 'they',\n",
       " 'them',\n",
       " 'their',\n",
       " 'theirs',\n",
       " 'themselves',\n",
       " 'what',\n",
       " 'which',\n",
       " 'who',\n",
       " 'whom',\n",
       " 'this',\n",
       " 'that',\n",
       " \"that'll\",\n",
       " 'these',\n",
       " 'those',\n",
       " 'am',\n",
       " 'is',\n",
       " 'are',\n",
       " 'was',\n",
       " 'were',\n",
       " 'be',\n",
       " 'been',\n",
       " 'being',\n",
       " 'have',\n",
       " 'has',\n",
       " 'had',\n",
       " 'having',\n",
       " 'do',\n",
       " 'does',\n",
       " 'did',\n",
       " 'doing',\n",
       " 'a',\n",
       " 'an',\n",
       " 'the',\n",
       " 'and',\n",
       " 'but',\n",
       " 'if',\n",
       " 'or',\n",
       " 'because',\n",
       " 'as',\n",
       " 'until',\n",
       " 'while',\n",
       " 'of',\n",
       " 'at',\n",
       " 'by',\n",
       " 'for',\n",
       " 'with',\n",
       " 'about',\n",
       " 'against',\n",
       " 'between',\n",
       " 'into',\n",
       " 'through',\n",
       " 'during',\n",
       " 'before',\n",
       " 'after',\n",
       " 'above',\n",
       " 'below',\n",
       " 'to',\n",
       " 'from',\n",
       " 'up',\n",
       " 'down',\n",
       " 'in',\n",
       " 'out',\n",
       " 'on',\n",
       " 'off',\n",
       " 'over',\n",
       " 'under',\n",
       " 'again',\n",
       " 'further',\n",
       " 'then',\n",
       " 'once',\n",
       " 'here',\n",
       " 'there',\n",
       " 'when',\n",
       " 'where',\n",
       " 'why',\n",
       " 'how',\n",
       " 'all',\n",
       " 'any',\n",
       " 'both',\n",
       " 'each',\n",
       " 'few',\n",
       " 'more',\n",
       " 'most',\n",
       " 'other',\n",
       " 'some',\n",
       " 'such',\n",
       " 'no',\n",
       " 'nor',\n",
       " 'not',\n",
       " 'only',\n",
       " 'own',\n",
       " 'same',\n",
       " 'so',\n",
       " 'than',\n",
       " 'too',\n",
       " 'very',\n",
       " 's',\n",
       " 't',\n",
       " 'can',\n",
       " 'will',\n",
       " 'just',\n",
       " 'don',\n",
       " \"don't\",\n",
       " 'should',\n",
       " \"should've\",\n",
       " 'now',\n",
       " 'd',\n",
       " 'll',\n",
       " 'm',\n",
       " 'o',\n",
       " 're',\n",
       " 've',\n",
       " 'y',\n",
       " 'ain',\n",
       " 'aren',\n",
       " \"aren't\",\n",
       " 'couldn',\n",
       " \"couldn't\",\n",
       " 'didn',\n",
       " \"didn't\",\n",
       " 'doesn',\n",
       " \"doesn't\",\n",
       " 'hadn',\n",
       " \"hadn't\",\n",
       " 'hasn',\n",
       " \"hasn't\",\n",
       " 'haven',\n",
       " \"haven't\",\n",
       " 'isn',\n",
       " \"isn't\",\n",
       " 'ma',\n",
       " 'mightn',\n",
       " \"mightn't\",\n",
       " 'mustn',\n",
       " \"mustn't\",\n",
       " 'needn',\n",
       " \"needn't\",\n",
       " 'shan',\n",
       " \"shan't\",\n",
       " 'shouldn',\n",
       " \"shouldn't\",\n",
       " 'wasn',\n",
       " \"wasn't\",\n",
       " 'weren',\n",
       " \"weren't\",\n",
       " 'won',\n",
       " \"won't\",\n",
       " 'wouldn',\n",
       " \"wouldn't\"]"
      ]
     },
     "execution_count": 76,
     "metadata": {},
     "output_type": "execute_result"
    }
   ],
   "source": [
    "stop"
   ]
  },
  {
   "cell_type": "code",
   "execution_count": 77,
   "id": "ff52f8ec",
   "metadata": {},
   "outputs": [],
   "source": [
    "text3=text2.split()"
   ]
  },
  {
   "cell_type": "code",
   "execution_count": 78,
   "id": "6b27211a",
   "metadata": {},
   "outputs": [
    {
     "data": {
      "text/plain": [
       "['once',\n",
       " 'upon',\n",
       " 'a',\n",
       " 'tim',\n",
       " 'in',\n",
       " 'harmonyville,',\n",
       " 'childhood',\n",
       " 'friends',\n",
       " 'lily',\n",
       " 'and',\n",
       " 'jake',\n",
       " 'drifted',\n",
       " 'apart,',\n",
       " 'but',\n",
       " 'a',\n",
       " 'trip',\n",
       " 'down',\n",
       " 'memory',\n",
       " 'lane',\n",
       " 'throuh',\n",
       " 'old',\n",
       " 'photos',\n",
       " 'brought',\n",
       " 'them',\n",
       " 'back',\n",
       " 'together.however',\n",
       " 'the',\n",
       " 'wants',\n",
       " 'to',\n",
       " 'meet',\n",
       " 'using',\n",
       " 'www.friendhsip.com.',\n",
       " 'nostalgia',\n",
       " 'struck,',\n",
       " 'promting',\n",
       " 'lily',\n",
       " 'to',\n",
       " 'reach',\n",
       " 'out,',\n",
       " 'and',\n",
       " 'they',\n",
       " 'decided',\n",
       " 'to',\n",
       " 'reunite',\n",
       " 'at',\n",
       " 'their',\n",
       " 'favorite',\n",
       " 'cafe.',\n",
       " 'amidst',\n",
       " 'shared',\n",
       " 'laughter',\n",
       " 'and',\n",
       " 'stories,',\n",
       " 'it',\n",
       " 'became',\n",
       " 'evident',\n",
       " 'that',\n",
       " 'their',\n",
       " 'bond',\n",
       " 'was',\n",
       " 'as',\n",
       " 'stong',\n",
       " 'as',\n",
       " 'ever.',\n",
       " 'inspired,',\n",
       " 'they',\n",
       " 'planed',\n",
       " 'a',\n",
       " 'spontaneous',\n",
       " 'weekend',\n",
       " 'getaway',\n",
       " 'to',\n",
       " 'rekindle',\n",
       " 'their',\n",
       " 'past',\n",
       " 'adventures.',\n",
       " 'by',\n",
       " 'the',\n",
       " 'mountain',\n",
       " \"cabin's\",\n",
       " 'fireplace,',\n",
       " 'they',\n",
       " 'realized',\n",
       " 'that',\n",
       " 'some',\n",
       " 'friendships,',\n",
       " 'like',\n",
       " 'fine',\n",
       " 'wine,',\n",
       " 'only',\n",
       " 'get',\n",
       " 'better',\n",
       " 'with',\n",
       " 'time.']"
      ]
     },
     "execution_count": 78,
     "metadata": {},
     "output_type": "execute_result"
    }
   ],
   "source": [
    "text3"
   ]
  },
  {
   "cell_type": "code",
   "execution_count": 79,
   "id": "aff48444",
   "metadata": {},
   "outputs": [],
   "source": [
    "list = []\n",
    "for i in text3:\n",
    "    if i not in stop:\n",
    "        list.append(i)"
   ]
  },
  {
   "cell_type": "code",
   "execution_count": 80,
   "id": "1bc7bf44",
   "metadata": {},
   "outputs": [
    {
     "data": {
      "text/plain": [
       "['upon',\n",
       " 'tim',\n",
       " 'harmonyville,',\n",
       " 'childhood',\n",
       " 'friends',\n",
       " 'lily',\n",
       " 'jake',\n",
       " 'drifted',\n",
       " 'apart,',\n",
       " 'trip',\n",
       " 'memory',\n",
       " 'lane',\n",
       " 'throuh',\n",
       " 'old',\n",
       " 'photos',\n",
       " 'brought',\n",
       " 'back',\n",
       " 'together.however',\n",
       " 'wants',\n",
       " 'meet',\n",
       " 'using',\n",
       " 'www.friendhsip.com.',\n",
       " 'nostalgia',\n",
       " 'struck,',\n",
       " 'promting',\n",
       " 'lily',\n",
       " 'reach',\n",
       " 'out,',\n",
       " 'decided',\n",
       " 'reunite',\n",
       " 'favorite',\n",
       " 'cafe.',\n",
       " 'amidst',\n",
       " 'shared',\n",
       " 'laughter',\n",
       " 'stories,',\n",
       " 'became',\n",
       " 'evident',\n",
       " 'bond',\n",
       " 'stong',\n",
       " 'ever.',\n",
       " 'inspired,',\n",
       " 'planed',\n",
       " 'spontaneous',\n",
       " 'weekend',\n",
       " 'getaway',\n",
       " 'rekindle',\n",
       " 'past',\n",
       " 'adventures.',\n",
       " 'mountain',\n",
       " \"cabin's\",\n",
       " 'fireplace,',\n",
       " 'realized',\n",
       " 'friendships,',\n",
       " 'like',\n",
       " 'fine',\n",
       " 'wine,',\n",
       " 'get',\n",
       " 'better',\n",
       " 'time.']"
      ]
     },
     "execution_count": 80,
     "metadata": {},
     "output_type": "execute_result"
    }
   ],
   "source": [
    "list"
   ]
  },
  {
   "cell_type": "code",
   "execution_count": 83,
   "id": "a46cf8d1",
   "metadata": {},
   "outputs": [
    {
     "data": {
      "text/plain": [
       "\"upon tim harmonyville, childhood friends lily jake drifted apart, trip memory lane throuh old photos brought back together.however wants meet using www.friendhsip.com. nostalgia struck, promting lily reach out, decided reunite favorite cafe. amidst shared laughter stories, became evident bond stong ever. inspired, planed spontaneous weekend getaway rekindle past adventures. mountain cabin's fireplace, realized friendships, like fine wine, get better time.\""
      ]
     },
     "execution_count": 83,
     "metadata": {},
     "output_type": "execute_result"
    }
   ],
   "source": [
    "text4 = \" \".join(list)\n",
    "text4"
   ]
  },
  {
   "cell_type": "markdown",
   "id": "ed8d1943",
   "metadata": {},
   "source": [
    "## Lemmitization"
   ]
  },
  {
   "cell_type": "code",
   "execution_count": 90,
   "id": "92cdab6b",
   "metadata": {},
   "outputs": [],
   "source": [
    "from nltk.stem import WordNetLemmatizer\n",
    "from nltk.stem import PorterStemmer"
   ]
  },
  {
   "cell_type": "code",
   "execution_count": 91,
   "id": "5ac997ac",
   "metadata": {},
   "outputs": [],
   "source": [
    "ps = PorterStemmer()"
   ]
  },
  {
   "cell_type": "code",
   "execution_count": 92,
   "id": "af2551cb",
   "metadata": {},
   "outputs": [
    {
     "data": {
      "text/plain": [
       "\"upon tim harmonyville, childhood friends lily jake drifted apart, trip memory lane throuh old photos brought back together.however wants meet using www.friendhsip.com. nostalgia struck, promting lily reach out, decided reunite favorite cafe. amidst shared laughter stories, became evident bond stong ever. inspired, planed spontaneous weekend getaway rekindle past adventures. mountain cabin's fireplace, realized friendships, like fine wine, get better time.\""
      ]
     },
     "execution_count": 92,
     "metadata": {},
     "output_type": "execute_result"
    }
   ],
   "source": [
    "ps.stem(text4)"
   ]
  },
  {
   "cell_type": "code",
   "execution_count": 93,
   "id": "c5d56c79",
   "metadata": {},
   "outputs": [],
   "source": [
    "chaitanya = WordNetLemmatizer()"
   ]
  },
  {
   "cell_type": "code",
   "execution_count": 94,
   "id": "f2fa9e73",
   "metadata": {},
   "outputs": [
    {
     "data": {
      "text/plain": [
       "\"upon tim harmonyville, childhood friends lily jake drifted apart, trip memory lane throuh old photos brought back together.however wants meet using www.friendhsip.com. nostalgia struck, promting lily reach out, decided reunite favorite cafe. amidst shared laughter stories, became evident bond stong ever. inspired, planed spontaneous weekend getaway rekindle past adventures. mountain cabin's fireplace, realized friendships, like fine wine, get better time.\""
      ]
     },
     "execution_count": 94,
     "metadata": {},
     "output_type": "execute_result"
    }
   ],
   "source": [
    "chaitanya.lemmatize(text4)"
   ]
  },
  {
   "cell_type": "code",
   "execution_count": null,
   "id": "1adf35e1",
   "metadata": {},
   "outputs": [],
   "source": []
  }
 ],
 "metadata": {
  "kernelspec": {
   "display_name": "Python 3 (ipykernel)",
   "language": "python",
   "name": "python3"
  },
  "language_info": {
   "codemirror_mode": {
    "name": "ipython",
    "version": 3
   },
   "file_extension": ".py",
   "mimetype": "text/x-python",
   "name": "python",
   "nbconvert_exporter": "python",
   "pygments_lexer": "ipython3",
   "version": "3.11.4"
  }
 },
 "nbformat": 4,
 "nbformat_minor": 5
}
